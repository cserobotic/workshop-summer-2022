{
 "cells": [
  {
   "cell_type": "markdown",
   "metadata": {},
   "source": [
    "# Workshop summer 2022\n",
    "## An introduction to Python language\n",
    "\n",
    "### Shahid Beheshti University,\n",
    "\n",
    "### Robotics Laboratory in computer science and engineering faculty,\n",
    "\n",
    "Author: [Arya Parvizi](https://github.com/ph504)\n",
    "\n",
    "aryaparvizi98@gmail.com"
   ]
  },
  {
   "cell_type": "markdown",
   "metadata": {},
   "source": [
    "**important note:** to run the scripts in a cell in the jupyter notebook press 'Run' button at the top or press 'shift + Enter' \n",
    "\n",
    "# Table of contents:\n",
    "\n",
    "1. [**why Python**](#why-python?)\n",
    "2. [**why jupyter notebook**](#why-jupyter-notebook?)\n",
    "3. [**installation and getting started**](#Install-jupyter-notebook)\n",
    "4. [**Python Language**](#Python-language)"
   ]
  },
  {
   "cell_type": "markdown",
   "metadata": {},
   "source": [
    "## why python?\n",
    "\n",
    "the answer is why not?\n",
    "there are many oppurtunities arising from learning python. for the ai, machine learning, datascience and robotics careers. and some cases learning python for backend developement and etc.\n",
    "\n",
    "other datascience languages like R and Matlab have similar syntax.\n",
    "\n",
    "besides! it's easy to learn python specially if you're not new to programming.\n",
    "\n",
    "### useful libraries:\n",
    "\n",
    "there are many libraries for math, ML, DL, robotics and etc. we will definitely introduce some of them here. most definitely easier to use and read vector and matrix operations in Python rather than a language like C.\n"
   ]
  },
  {
   "cell_type": "markdown",
   "metadata": {},
   "source": [
    "## why jupyter notebook?\n",
    "\n",
    "while there are many editors and developement tools and IDEs for Python, we use iPython notebook and jupyter notebook in particular becausse it is easy to use and provides many useful features.\n",
    "\n",
    "### jupyter notebook can be more interactive\n",
    "\n",
    "there is a library called ipythonwidgets that can make your code more interactive in a creative way! we will explore this library in the next sections.\n",
    "\n",
    "### jupyter notebook environment is easier to execute scripts\n",
    "\n",
    "because of its modular and cellular strcuture it is certainly easy to run scripts than to run an entire .py file. take a look at the example below to understand its power.\n",
    "\n",
    "run the code below it should give a syntax error. then run the next cell which contains ```a = 1``` after that, run the same ```print(a)``` the syntax error is gone. this should give you an idea of how it works."
   ]
  },
  {
   "cell_type": "code",
   "execution_count": 3,
   "metadata": {},
   "outputs": [
    {
     "name": "stdout",
     "output_type": "stream",
     "text": [
      "1\n"
     ]
    }
   ],
   "source": [
    "print(a)"
   ]
  },
  {
   "cell_type": "markdown",
   "metadata": {},
   "source": [
    "after running the cell below run the `print(a)` in the cell above again."
   ]
  },
  {
   "cell_type": "code",
   "execution_count": 2,
   "metadata": {},
   "outputs": [],
   "source": [
    "a = 1"
   ]
  },
  {
   "cell_type": "markdown",
   "metadata": {},
   "source": [
    "another example: run the code below three times"
   ]
  },
  {
   "cell_type": "code",
   "execution_count": 6,
   "metadata": {},
   "outputs": [
    {
     "name": "stdout",
     "output_type": "stream",
     "text": [
      "4\n"
     ]
    }
   ],
   "source": [
    "# in the beginning a=1, after three times adding by 1, it becomes a=4\n",
    "a = a+1\n",
    "print(a)"
   ]
  },
  {
   "cell_type": "markdown",
   "metadata": {},
   "source": [
    "### jupyter notebook is like a document containing executable scripts\n",
    "\n",
    "jupyter notebook is really great for presentation and showing graphs for processed data. and this makes it very easy to read and understand and change. it also supports LaTeX and markdown rendering. it can also be extracted as a html format.\n",
    "\n",
    "### other options:\n",
    "\n",
    "#### notebooks:\n",
    "\n",
    "* Google Colab,\n",
    "* JupyterLab (the better jupyter notebook),\n",
    "* ...\n",
    "\n",
    "#### IDE & text editors:\n",
    "\n",
    "* vscode,\n",
    "* PyCharm,\n",
    "* IDLE,\n",
    "* ..."
   ]
  },
  {
   "cell_type": "markdown",
   "metadata": {},
   "source": [
    "## Install jupyter notebook\n",
    "\n",
    "if you don't have python installed go to [this link](https://www.python.org/downloads/), and select the proper python version. make sure to tick to add the PATH in the installing procedure.\n",
    "\n",
    "## Install using pip\n",
    "\n",
    "pip is a package manager for python and used for installing most libraries. this package manager is installed by default and is very easy to use for most package installations. if by any chance it is not currently installed on your computer but python is installed use this [link](https://pip.pypa.io/en/stable/installation/).\n",
    "\n",
    "run this command in the command prompt (cmd) to install the jupyter notebook.\n",
    "```bash\n",
    "pip install jupyter notebook\n",
    "```\n",
    "\n",
    "\n",
    "## Install using conda\n",
    "\n",
    "conda is virtual environment for python that also manages packages and has differences with pip. to install conda use this [link](https://docs.conda.io/projects/conda/en/stable/user-guide/install/index.html).\n",
    "\n",
    "run this command in the command prompt (cmd) to install the jupyter notebook.\n",
    "```bash\n",
    "conda install -c conda-forge notebook\n",
    "```"
   ]
  },
  {
   "cell_type": "markdown",
   "metadata": {},
   "source": [
    "## Start jupyter notebook"
   ]
  },
  {
   "cell_type": "markdown",
   "metadata": {},
   "source": [
    "to run jupyter notebook simply run this command in the command prompt in the directory you want to save your jupyter project.\n",
    "\n",
    "```jupyter notebook```\n",
    "and hit enter.\n"
   ]
  },
  {
   "cell_type": "markdown",
   "metadata": {},
   "source": [
    "# Read more\n",
    "\n",
    "here are some topics that might be helpful to read more about!\n",
    "\n",
    "* conda and pip differences.\n",
    "* jupyterLab features.\n",
    "* LaTeX syntax and how to use in jupyter notebooks.\n",
    "* markdown syntax and how to use in jupyter notebooks.\n",
    "* how to git jupyter notebooks what to ignore and what to add.\n"
   ]
  },
  {
   "cell_type": "markdown",
   "metadata": {},
   "source": [
    "## Python language\n",
    "### comment"
   ]
  },
  {
   "cell_type": "code",
   "execution_count": null,
   "metadata": {},
   "outputs": [],
   "source": [
    "# this is a comment\n",
    "\n",
    "# there are \n",
    "# no multi-line\n",
    "# comment \n",
    "\n",
    "# comments won't run"
   ]
  },
  {
   "cell_type": "markdown",
   "metadata": {},
   "source": [
    "### output"
   ]
  },
  {
   "cell_type": "code",
   "execution_count": 14,
   "metadata": {},
   "outputs": [
    {
     "name": "stdout",
     "output_type": "stream",
     "text": [
      "hello world\n",
      "no difference\n",
      "hello world\n",
      "this is\n",
      " new line\n",
      "this is' quotation mark\n",
      "no new line after print,no new line!\n",
      "comma,separated,words\n"
     ]
    }
   ],
   "source": [
    "print('hello world')\n",
    "print(\"no difference\")\n",
    "print('hello', 'world', 'no difference')\n",
    "print('this is\\n new line')\n",
    "print('this is\\' quotation mark')\n",
    "print('no new line after print,', end='')\n",
    "print('no new line!')\n",
    "print('comma','separated','words',sep=',')"
   ]
  },
  {
   "cell_type": "markdown",
   "metadata": {},
   "source": [
    "### input"
   ]
  },
  {
   "cell_type": "code",
   "execution_count": 8,
   "metadata": {},
   "outputs": [
    {
     "name": "stdout",
     "output_type": "stream",
     "text": [
      "please enter a value to store into variable a:1\n"
     ]
    }
   ],
   "source": [
    "a = input('please enter a value to store into variable a:')"
   ]
  },
  {
   "cell_type": "markdown",
   "metadata": {},
   "source": [
    "### variables and datatypes\n",
    "\n",
    "datatype specification isn't necessary in python:"
   ]
  },
  {
   "cell_type": "code",
   "execution_count": 24,
   "metadata": {},
   "outputs": [
    {
     "name": "stdout",
     "output_type": "stream",
     "text": [
      "type of a: <class 'int'>\n",
      "a= 1\n",
      "type of b: <class 'float'>\n",
      "b= 0.2\n",
      "converted to int: 1\n",
      "changed type of a: <class 'str'>\n",
      "a= you can change datatype of a variable and it doesn't give you error\n",
      "type of mylist <class 'list'>\n",
      "mylist= [1, 2, 3, 4]\n",
      "type of myset: <class 'set'>\n",
      "myset= {1, 2}\n",
      "type of mymap: <class 'dict'>\n",
      "mymap= {1: 2, 2: 24, 3: 32}\n"
     ]
    }
   ],
   "source": [
    "# integer\n",
    "a = 1\n",
    "print('type of a:', type(a))\n",
    "print('a=',a)\n",
    "\n",
    "# float\n",
    "a = 1.1\n",
    "b = .2\n",
    "print('type of b:', type(b))\n",
    "print('b=',b)\n",
    "\n",
    "# convert your floats to integer:\n",
    "a_integer = int(a)\n",
    "print('converted to int:', a_integer)\n",
    "\n",
    "# string\n",
    "a = 'you can change datatype of a variable and it doesn\\'t give you error'\n",
    "print('changed type of a:', type(a))\n",
    "print('a=', a)\n",
    "c = 'this is string'\n",
    "d = \"this is also string\"\n",
    "\n",
    "# some datastructures\n",
    "# list \n",
    "# equivalent to C's array\n",
    "mylist = [1, 2, 3, 4]\n",
    "print('type of mylist', type(mylist))\n",
    "# you can directly print your lists!\n",
    "print(\"mylist=\", mylist)\n",
    "\n",
    "# set\n",
    "myset = {1, 1, 2}\n",
    "print('type of myset:',type(myset))\n",
    "print('myset=',myset)\n",
    "\n",
    "# dictionary\n",
    "mydict = {1:2, 2:24, 3:32}\n",
    "print('type of mymap:', type(mydict))\n",
    "print('mymap=',mydict)"
   ]
  },
  {
   "cell_type": "markdown",
   "metadata": {},
   "source": [
    "### operation on numbers"
   ]
  },
  {
   "cell_type": "code",
   "execution_count": 25,
   "metadata": {},
   "outputs": [
    {
     "data": {
      "text/plain": [
       "2"
      ]
     },
     "execution_count": 25,
     "metadata": {},
     "output_type": "execute_result"
    }
   ],
   "source": [
    "# summation\n",
    "1+1"
   ]
  },
  {
   "cell_type": "code",
   "execution_count": 37,
   "metadata": {},
   "outputs": [],
   "source": [
    "# semicolon in jupyter notebook\n",
    "# it doesn't do anything in a .py file\n",
    "2+2;\n",
    "# no output"
   ]
  },
  {
   "cell_type": "code",
   "execution_count": 27,
   "metadata": {},
   "outputs": [
    {
     "data": {
      "text/plain": [
       "17.8"
      ]
     },
     "execution_count": 27,
     "metadata": {},
     "output_type": "execute_result"
    }
   ],
   "source": [
    "# subtraction\n",
    "20-2.2"
   ]
  },
  {
   "cell_type": "code",
   "execution_count": 28,
   "metadata": {},
   "outputs": [
    {
     "data": {
      "text/plain": [
       "22.0"
      ]
     },
     "execution_count": 28,
     "metadata": {},
     "output_type": "execute_result"
    }
   ],
   "source": [
    "# multiplication\n",
    "1.0 * 22"
   ]
  },
  {
   "cell_type": "code",
   "execution_count": 29,
   "metadata": {},
   "outputs": [
    {
     "data": {
      "text/plain": [
       "11.0"
      ]
     },
     "execution_count": 29,
     "metadata": {},
     "output_type": "execute_result"
    }
   ],
   "source": [
    "# division\n",
    "22/2\n",
    "# note that the output is float"
   ]
  },
  {
   "cell_type": "code",
   "execution_count": 32,
   "metadata": {},
   "outputs": [
    {
     "name": "stdout",
     "output_type": "stream",
     "text": [
      "3\n"
     ]
    },
    {
     "data": {
      "text/plain": [
       "11"
      ]
     },
     "execution_count": 32,
     "metadata": {},
     "output_type": "execute_result"
    }
   ],
   "source": [
    "# dividend\n",
    "print(15//4)\n",
    "\n",
    "# this one changed to integer:\n",
    "22//2"
   ]
  },
  {
   "cell_type": "code",
   "execution_count": 38,
   "metadata": {},
   "outputs": [
    {
     "name": "stdout",
     "output_type": "stream",
     "text": [
      "3\n"
     ]
    },
    {
     "data": {
      "text/plain": [
       "2"
      ]
     },
     "execution_count": 38,
     "metadata": {},
     "output_type": "execute_result"
    }
   ],
   "source": [
    "# remainder\n",
    "print(15%4)\n",
    "\n",
    "# it behaves exactly like modolus\n",
    "-2%4"
   ]
  },
  {
   "cell_type": "code",
   "execution_count": 41,
   "metadata": {},
   "outputs": [
    {
     "data": {
      "text/plain": [
       "-0.125"
      ]
     },
     "execution_count": 41,
     "metadata": {},
     "output_type": "execute_result"
    }
   ],
   "source": [
    "# power\n",
    "-2**-3"
   ]
  },
  {
   "cell_type": "markdown",
   "metadata": {},
   "source": [
    "### operations on strings"
   ]
  },
  {
   "cell_type": "code",
   "execution_count": 44,
   "metadata": {},
   "outputs": [
    {
     "data": {
      "text/plain": [
       "'hello world'"
      ]
     },
     "execution_count": 44,
     "metadata": {},
     "output_type": "execute_result"
    }
   ],
   "source": [
    "# concatenation\n",
    "'hello ' + 'world'"
   ]
  },
  {
   "cell_type": "code",
   "execution_count": 45,
   "metadata": {},
   "outputs": [
    {
     "data": {
      "text/plain": [
       "'hello hello hello hello '"
      ]
     },
     "execution_count": 45,
     "metadata": {},
     "output_type": "execute_result"
    }
   ],
   "source": [
    "# repeat\n",
    "'hello '*4"
   ]
  },
  {
   "cell_type": "code",
   "execution_count": 59,
   "metadata": {},
   "outputs": [
    {
     "name": "stdout",
     "output_type": "stream",
     "text": [
      "e\n",
      "o\n",
      "l\n"
     ]
    }
   ],
   "source": [
    "# indexing\n",
    "print('hello'[1])\n",
    "# you can use negative index :D\n",
    "# it takes elements from the end\n",
    "print('hello'[-1])\n",
    "print('hello'[-2])"
   ]
  },
  {
   "cell_type": "code",
   "execution_count": 81,
   "metadata": {},
   "outputs": [
    {
     "name": "stdout",
     "output_type": "stream",
     "text": [
      "string[i:j] outputs substring with indecies [i,j) and j is exclusive(not included)\n",
      "yellow\n",
      "\n",
      "string[:] gives all of the string\n",
      "hello\n",
      "\n",
      "string[i:] gives the substring from ith index until the end\n",
      "llo\n",
      "\n",
      "string[:j] gives the substring from the start until the jth index equivalent to [0:j]\n",
      "he\n",
      "\n",
      "string[i:j:step] substring[i:j] but with a step size.\n",
      "hlo\n",
      "\n",
      "reverse slicing\n",
      "olleh\n",
      "\n",
      "[1:3:-1] and [3:1:1] nothing is in the output equivalent to ''\n",
      "no output\n",
      "\n",
      "reverse slicing and negative steps\n",
      "ol\n"
     ]
    }
   ],
   "source": [
    "# slicing\n",
    "\n",
    "print('string[i:j] outputs substring with indecies [i,j) and j is exclusive(not included)')\n",
    "print('y' + 'hello'[1:5] + 'w')\n",
    "print('') # acts as a new line\n",
    "\n",
    "print('string[:] gives all of the string')\n",
    "print('hello'[:], end='\\n\\n')\n",
    "\n",
    "print('string[i:] gives the substring from ith index until the end')\n",
    "print('hello'[2:])\n",
    "print('')\n",
    "\n",
    "print('string[:j] gives the substring from the start until the jth index equivalent to [0:j]')\n",
    "print('hello'[:2])\n",
    "print('')\n",
    "\n",
    "print('string[i:j:step] substring[i:j] but with a step size.')\n",
    "print('hello'[::2])\n",
    "print('')\n",
    "\n",
    "print('reverse slicing')\n",
    "print('hello'[::-1])\n",
    "print('')\n",
    "\n",
    "print('[1:3:-1] and [3:1:1] nothing is in the output equivalent to \\'\\'')\n",
    "print('hello'[1:3:-1], end='')\n",
    "print('hello'[3:1:1], end='')\n",
    "print('no output',end='\\n\\n')\n",
    "\n",
    "print('reverse slicing and negative steps')\n",
    "print('hello'[5:0:-2])"
   ]
  },
  {
   "cell_type": "code",
   "execution_count": 87,
   "metadata": {},
   "outputs": [
    {
     "data": {
      "text/plain": [
       "'string = hello, integer = 1, float_number = 2.250000, pi = 3.1416'"
      ]
     },
     "execution_count": 87,
     "metadata": {},
     "output_type": "execute_result"
    }
   ],
   "source": [
    "# modulo operation on string\n",
    "string = 'hello'\n",
    "integer = 1\n",
    "float_number = 2.25\n",
    "pi = 3.14159265359 \n",
    "\n",
    "'string = %s, integer = %d, float_number = %f, pi = %.4f' % (string, integer, float_number, pi)"
   ]
  },
  {
   "cell_type": "code",
   "execution_count": 65,
   "metadata": {},
   "outputs": [
    {
     "ename": "TypeError",
     "evalue": "unsupported operand type(s) for /: 'str' and 'str'",
     "output_type": "error",
     "traceback": [
      "\u001b[1;31m---------------------------------------------------------------------------\u001b[0m",
      "\u001b[1;31mTypeError\u001b[0m                                 Traceback (most recent call last)",
      "\u001b[1;32m<ipython-input-65-537f119f22fc>\u001b[0m in \u001b[0;36m<module>\u001b[1;34m\u001b[0m\n\u001b[0;32m      1\u001b[0m \u001b[1;31m# undefined behaviors\u001b[0m\u001b[1;33m\u001b[0m\u001b[1;33m\u001b[0m\u001b[1;33m\u001b[0m\u001b[0m\n\u001b[1;32m----> 2\u001b[1;33m \u001b[1;34m'hello'\u001b[0m\u001b[1;33m/\u001b[0m\u001b[1;34m'h'\u001b[0m\u001b[1;33m\u001b[0m\u001b[1;33m\u001b[0m\u001b[0m\n\u001b[0m\u001b[0;32m      3\u001b[0m \u001b[1;34m'hello'\u001b[0m\u001b[1;33m-\u001b[0m\u001b[1;34m'h'\u001b[0m\u001b[1;33m\u001b[0m\u001b[1;33m\u001b[0m\u001b[0m\n",
      "\u001b[1;31mTypeError\u001b[0m: unsupported operand type(s) for /: 'str' and 'str'"
     ]
    }
   ],
   "source": [
    "# undefined behaviors\n",
    "'hello'/'h'"
   ]
  },
  {
   "cell_type": "code",
   "execution_count": 66,
   "metadata": {},
   "outputs": [
    {
     "ename": "TypeError",
     "evalue": "unsupported operand type(s) for -: 'str' and 'str'",
     "output_type": "error",
     "traceback": [
      "\u001b[1;31m---------------------------------------------------------------------------\u001b[0m",
      "\u001b[1;31mTypeError\u001b[0m                                 Traceback (most recent call last)",
      "\u001b[1;32m<ipython-input-66-a6097273b5a0>\u001b[0m in \u001b[0;36m<module>\u001b[1;34m\u001b[0m\n\u001b[1;32m----> 1\u001b[1;33m \u001b[1;34m'hello'\u001b[0m\u001b[1;33m-\u001b[0m\u001b[1;34m'h'\u001b[0m\u001b[1;33m\u001b[0m\u001b[1;33m\u001b[0m\u001b[0m\n\u001b[0m",
      "\u001b[1;31mTypeError\u001b[0m: unsupported operand type(s) for -: 'str' and 'str'"
     ]
    }
   ],
   "source": [
    "'hello'-'h'"
   ]
  },
  {
   "cell_type": "code",
   "execution_count": 82,
   "metadata": {},
   "outputs": [
    {
     "ename": "TypeError",
     "evalue": "can't multiply sequence by non-int of type 'str'",
     "output_type": "error",
     "traceback": [
      "\u001b[1;31m---------------------------------------------------------------------------\u001b[0m",
      "\u001b[1;31mTypeError\u001b[0m                                 Traceback (most recent call last)",
      "\u001b[1;32m<ipython-input-82-bbe270f43694>\u001b[0m in \u001b[0;36m<module>\u001b[1;34m\u001b[0m\n\u001b[1;32m----> 1\u001b[1;33m \u001b[1;34m'hello'\u001b[0m\u001b[1;33m*\u001b[0m\u001b[1;34m'h'\u001b[0m\u001b[1;33m\u001b[0m\u001b[1;33m\u001b[0m\u001b[0m\n\u001b[0m",
      "\u001b[1;31mTypeError\u001b[0m: can't multiply sequence by non-int of type 'str'"
     ]
    }
   ],
   "source": [
    "'hello'*'h'"
   ]
  },
  {
   "cell_type": "code",
   "execution_count": 83,
   "metadata": {},
   "outputs": [
    {
     "ename": "TypeError",
     "evalue": "unsupported operand type(s) for /: 'str' and 'int'",
     "output_type": "error",
     "traceback": [
      "\u001b[1;31m---------------------------------------------------------------------------\u001b[0m",
      "\u001b[1;31mTypeError\u001b[0m                                 Traceback (most recent call last)",
      "\u001b[1;32m<ipython-input-83-8eda863ef769>\u001b[0m in \u001b[0;36m<module>\u001b[1;34m\u001b[0m\n\u001b[1;32m----> 1\u001b[1;33m \u001b[1;34m'hello'\u001b[0m\u001b[1;33m/\u001b[0m\u001b[1;36m2\u001b[0m\u001b[1;33m\u001b[0m\u001b[1;33m\u001b[0m\u001b[0m\n\u001b[0m",
      "\u001b[1;31mTypeError\u001b[0m: unsupported operand type(s) for /: 'str' and 'int'"
     ]
    }
   ],
   "source": [
    "'hello'/2"
   ]
  },
  {
   "cell_type": "code",
   "execution_count": 84,
   "metadata": {},
   "outputs": [
    {
     "ename": "TypeError",
     "evalue": "unsupported operand type(s) for ** or pow(): 'str' and 'int'",
     "output_type": "error",
     "traceback": [
      "\u001b[1;31m---------------------------------------------------------------------------\u001b[0m",
      "\u001b[1;31mTypeError\u001b[0m                                 Traceback (most recent call last)",
      "\u001b[1;32m<ipython-input-84-a6d5964c32ce>\u001b[0m in \u001b[0;36m<module>\u001b[1;34m\u001b[0m\n\u001b[1;32m----> 1\u001b[1;33m \u001b[1;34m'hello'\u001b[0m\u001b[1;33m**\u001b[0m\u001b[1;36m2\u001b[0m\u001b[1;33m\u001b[0m\u001b[1;33m\u001b[0m\u001b[0m\n\u001b[0m",
      "\u001b[1;31mTypeError\u001b[0m: unsupported operand type(s) for ** or pow(): 'str' and 'int'"
     ]
    }
   ],
   "source": [
    "'hello'**2"
   ]
  },
  {
   "cell_type": "code",
   "execution_count": 86,
   "metadata": {},
   "outputs": [
    {
     "ename": "TypeError",
     "evalue": "not all arguments converted during string formatting",
     "output_type": "error",
     "traceback": [
      "\u001b[1;31m---------------------------------------------------------------------------\u001b[0m",
      "\u001b[1;31mTypeError\u001b[0m                                 Traceback (most recent call last)",
      "\u001b[1;32m<ipython-input-86-aac20f6e5b8c>\u001b[0m in \u001b[0;36m<module>\u001b[1;34m\u001b[0m\n\u001b[1;32m----> 1\u001b[1;33m \u001b[1;34m'hello'\u001b[0m\u001b[1;33m%\u001b[0m\u001b[1;36m14\u001b[0m\u001b[1;33m\u001b[0m\u001b[1;33m\u001b[0m\u001b[0m\n\u001b[0m",
      "\u001b[1;31mTypeError\u001b[0m: not all arguments converted during string formatting"
     ]
    }
   ],
   "source": []
  },
  {
   "cell_type": "code",
   "execution_count": null,
   "metadata": {},
   "outputs": [],
   "source": []
  }
 ],
 "metadata": {
  "kernelspec": {
   "display_name": "Python 3",
   "language": "python",
   "name": "python3"
  },
  "language_info": {
   "codemirror_mode": {
    "name": "ipython",
    "version": 3
   },
   "file_extension": ".py",
   "mimetype": "text/x-python",
   "name": "python",
   "nbconvert_exporter": "python",
   "pygments_lexer": "ipython3",
   "version": "3.7.5"
  }
 },
 "nbformat": 4,
 "nbformat_minor": 2
}
