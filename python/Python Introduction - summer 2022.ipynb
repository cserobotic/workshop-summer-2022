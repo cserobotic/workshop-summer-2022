{
 "cells": [
  {
   "cell_type": "markdown",
   "metadata": {},
   "source": [
    "# Workshop summer 2022\n",
    "## An introduction to Python language\n",
    "\n",
    "### Shahid Beheshti University,\n",
    "\n",
    "### Robotics Laboratory in computer science and engineering faculty,\n",
    "\n",
    "Author: [Arya Parvizi](https://github.com/ph504)\n",
    "\n",
    "aryaparvizi98@gmail.com"
   ]
  },
  {
   "cell_type": "markdown",
   "metadata": {},
   "source": [
    "**important note:** to run the scripts in a cell in the jupyter notebook press 'Run' button at the top or press 'shift + Enter' \n",
    "\n",
    "# Table of contents:\n",
    "\n",
    "1. [**why Python**](#why-python?)\n",
    "2. [**why jupyter notebook**](#why-jupyter-notebook?)\n",
    "3. [**installation and getting started**](#Install-jupyter-notebook)"
   ]
  },
  {
   "cell_type": "markdown",
   "metadata": {},
   "source": [
    "## why python?\n",
    "\n",
    "the answer is why not?\n",
    "there are many oppurtunities arising from learning python. for the ai, machine learning, datascience and robotics careers. and some cases learning python for backend developement and etc.\n",
    "\n",
    "other datascience languages like R and Matlab have similar syntax.\n",
    "\n",
    "besides! it's easy to learn python specially if you're not new to programming.\n",
    "\n",
    "### useful libraries:\n",
    "\n",
    "there are many libraries for math, ML, DL, robotics and etc. we will definitely introduce some of them here. most definitely easier to use and read vector and matrix operations in Python rather than a language like C.\n"
   ]
  },
  {
   "cell_type": "markdown",
   "metadata": {},
   "source": [
    "## why jupyter notebook?\n",
    "\n",
    "while there are many editors and developement tools and IDEs for Python, we use iPython notebook and jupyter notebook in particular becausse it is easy to use and provides many useful features.\n",
    "\n",
    "### jupyter notebook can be more interactive\n",
    "\n",
    "there is a library called ipythonwidgets that can make your code more interactive in a creative way! we will explore this library in the next sections.\n",
    "\n",
    "### jupyter notebook environment is easier to execute scripts\n",
    "\n",
    "because of its modular and cellular strcuture it is certainly easy to run scripts than to run an entire .py file. take a look at the example below to understand its power.\n",
    "\n",
    "run the code below it should give a syntax error. then run the next cell which contains ```a = 1``` after that, run the same ```print(a)``` the syntax error is gone. this should give you an idea of how it works."
   ]
  },
  {
   "cell_type": "code",
   "execution_count": 3,
   "metadata": {},
   "outputs": [
    {
     "name": "stdout",
     "output_type": "stream",
     "text": [
      "1\n"
     ]
    }
   ],
   "source": [
    "print(a)"
   ]
  },
  {
   "cell_type": "markdown",
   "metadata": {},
   "source": [
    "after running the cell below run the `print(a)` in the cell above again."
   ]
  },
  {
   "cell_type": "code",
   "execution_count": 2,
   "metadata": {},
   "outputs": [],
   "source": [
    "a = 1"
   ]
  },
  {
   "cell_type": "markdown",
   "metadata": {},
   "source": [
    "another example: run the code below three times"
   ]
  },
  {
   "cell_type": "code",
   "execution_count": 6,
   "metadata": {},
   "outputs": [
    {
     "name": "stdout",
     "output_type": "stream",
     "text": [
      "4\n"
     ]
    }
   ],
   "source": [
    "# in the beginning a=1, after three times adding by 1, it becomes a=4\n",
    "a = a+1\n",
    "print(a)"
   ]
  },
  {
   "cell_type": "markdown",
   "metadata": {},
   "source": [
    "### jupyter notebook is like a document containing executable scripts\n",
    "\n",
    "jupyter notebook is really great for presentation and showing graphs for processed data. and this makes it very easy to read and understand and change. it also supports LaTeX and markdown rendering. it can also be extracted as a html format.\n",
    "\n",
    "### other options:\n",
    "\n",
    "#### notebooks:\n",
    "\n",
    "* Google Colab,\n",
    "* JupyterLab (the better jupyter notebook),\n",
    "* ...\n",
    "\n",
    "#### IDE & text editors:\n",
    "\n",
    "* vscode,\n",
    "* PyCharm,\n",
    "* IDLE,\n",
    "* ..."
   ]
  },
  {
   "cell_type": "markdown",
   "metadata": {},
   "source": [
    "## Install jupyter notebook\n",
    "\n",
    "if you don't have python installed go to [this link](https://www.python.org/downloads/), and select the proper python version. make sure to tick to add the PATH in the installing procedure.\n",
    "\n",
    "## Install using pip\n",
    "\n",
    "pip is a package manager for python and used for installing most libraries. this package manager is installed by default and is very easy to use for most package installations. if by any chance it is not currently installed on your computer but python is installed use this [link](https://pip.pypa.io/en/stable/installation/).\n",
    "\n",
    "run this command in the command prompt (cmd) to install the jupyter notebook.\n",
    "```bash\n",
    "pip install jupyter notebook\n",
    "```\n",
    "\n",
    "\n",
    "## Install using conda\n",
    "\n",
    "conda is virtual environment for python that also manages packages and has differences with pip. to install conda use this [link](https://docs.conda.io/projects/conda/en/stable/user-guide/install/index.html).\n",
    "\n",
    "run this command in the command prompt (cmd) to install the jupyter notebook.\n",
    "```bash\n",
    "conda install -c conda-forge notebook\n",
    "```"
   ]
  },
  {
   "cell_type": "markdown",
   "metadata": {},
   "source": [
    "## Start jupyter notebook"
   ]
  },
  {
   "cell_type": "markdown",
   "metadata": {},
   "source": [
    "to run jupyter notebook simply run this command in the command prompt in the directory you want to save your jupyter project.\n",
    "\n",
    "```jupyter notebook```\n",
    "and hit enter.\n"
   ]
  },
  {
   "cell_type": "markdown",
   "metadata": {},
   "source": [
    "## Python language\n",
    "### comment"
   ]
  },
  {
   "cell_type": "code",
   "execution_count": null,
   "metadata": {},
   "outputs": [],
   "source": [
    "# this is a comment\n",
    "\n",
    "# there are \n",
    "# no multi-line\n",
    "# comment \n",
    "\n",
    "# comments won't run"
   ]
  },
  {
   "cell_type": "markdown",
   "metadata": {},
   "source": [
    "### output"
   ]
  },
  {
   "cell_type": "code",
   "execution_count": 14,
   "metadata": {},
   "outputs": [
    {
     "name": "stdout",
     "output_type": "stream",
     "text": [
      "hello world\n",
      "no difference\n",
      "hello world\n",
      "this is\n",
      " new line\n",
      "this is' quotation mark\n",
      "no new line after print,no new line!\n",
      "comma,separated,words\n"
     ]
    }
   ],
   "source": [
    "print('hello world')\n",
    "print(\"no difference\")\n",
    "print('hello', 'world', 'no difference')\n",
    "print('this is\\n new line')\n",
    "print('this is\\' quotation mark')\n",
    "print('no new line after print,', end='')\n",
    "print('no new line!')\n",
    "print('comma','separated','words',sep=',')"
   ]
  },
  {
   "cell_type": "markdown",
   "metadata": {},
   "source": [
    "### input"
   ]
  },
  {
   "cell_type": "code",
   "execution_count": 8,
   "metadata": {},
   "outputs": [
    {
     "name": "stdout",
     "output_type": "stream",
     "text": [
      "please enter a value to store into variable a:1\n"
     ]
    }
   ],
   "source": [
    "a = input('please enter a value to store into variable a:')"
   ]
  },
  {
   "cell_type": "markdown",
   "metadata": {},
   "source": [
    "### variables and datatypes\n",
    "\n",
    "datatype specification isn't necessary in python:"
   ]
  },
  {
   "cell_type": "code",
   "execution_count": 24,
   "metadata": {},
   "outputs": [
    {
     "name": "stdout",
     "output_type": "stream",
     "text": [
      "type of a: <class 'int'>\n",
      "a= 1\n",
      "type of b: <class 'float'>\n",
      "b= 0.2\n",
      "converted to int: 1\n",
      "changed type of a: <class 'str'>\n",
      "a= you can change datatype of a variable and it doesn't give you error\n",
      "type of mylist <class 'list'>\n",
      "mylist= [1, 2, 3, 4]\n",
      "type of myset: <class 'set'>\n",
      "myset= {1, 2}\n",
      "type of mymap: <class 'dict'>\n",
      "mymap= {1: 2, 2: 24, 3: 32}\n"
     ]
    }
   ],
   "source": [
    "# integer\n",
    "a = 1\n",
    "print('type of a:', type(a))\n",
    "print('a=',a)\n",
    "\n",
    "# float\n",
    "a = 1.1\n",
    "b = .2\n",
    "print('type of b:', type(b))\n",
    "print('b=',b)\n",
    "\n",
    "# convert your floats to integer:\n",
    "a_integer = int(a)\n",
    "print('converted to int:', a_integer)\n",
    "\n",
    "# string\n",
    "a = 'you can change datatype of a variable and it doesn\\'t give you error'\n",
    "print('changed type of a:', type(a))\n",
    "print('a=', a)\n",
    "c = 'this is string'\n",
    "d = \"this is also string\"\n",
    "\n",
    "# list \n",
    "# equivalent to C's array\n",
    "mylist = [1, 2, 3, 4]\n",
    "print('type of mylist', type(mylist))\n",
    "# you can directly print your lists!\n",
    "print(\"mylist=\", mylist)\n",
    "\n",
    "# set\n",
    "myset = {1, 1, 2}\n",
    "print('type of myset:',type(myset))\n",
    "print('myset=',myset)\n",
    "\n",
    "# dictionary\n",
    "mydict = {1:2, 2:24, 3:32}\n",
    "print('type of mymap:', type(mymap))\n",
    "print('mymap=',mymap)"
   ]
  },
  {
   "cell_type": "markdown",
   "metadata": {},
   "source": [
    "# Read more\n",
    "\n",
    "here are some topics that might be helpful to read more about!\n",
    "\n",
    "* conda and pip differences.\n",
    "* jupyterLab features.\n",
    "* LaTeX syntax and how to use in jupyter notebooks.\n",
    "* markdown syntax and how to use in jupyter notebooks.\n",
    "* how to git jupyter notebooks what to ignore and what to add.\n"
   ]
  },
  {
   "cell_type": "code",
   "execution_count": null,
   "metadata": {},
   "outputs": [],
   "source": []
  }
 ],
 "metadata": {
  "kernelspec": {
   "display_name": "Python 3",
   "language": "python",
   "name": "python3"
  },
  "language_info": {
   "codemirror_mode": {
    "name": "ipython",
    "version": 3
   },
   "file_extension": ".py",
   "mimetype": "text/x-python",
   "name": "python",
   "nbconvert_exporter": "python",
   "pygments_lexer": "ipython3",
   "version": "3.7.5"
  }
 },
 "nbformat": 4,
 "nbformat_minor": 2
}
