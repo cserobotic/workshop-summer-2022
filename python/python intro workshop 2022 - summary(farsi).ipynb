{
 "cells": [
  {
   "cell_type": "markdown",
   "id": "93179954",
   "metadata": {},
   "source": [
    "## markdown cell\n",
    ".میتونید اینجا هرچیزی بنویسید و نمایشی هست فقط. برای توضیحات در کل خیلی خوبه چون در کنار خوندن یک چیزی مثل مستند کد هم میتونید اجرا کنید\n",
    "\n",
    "# heading 1\n",
    "## heading 2\n",
    "### heading 3\n",
    "...\n",
    "\n",
    "## latex\n",
    "میتونید لتک بنویسید همینجا با علامت \n",
    "\n",
    "$\n",
    "\n",
    "مثال:\n",
    "\n",
    "$$\n",
    "\\frac{\\sqrt{x^2-1}}{e^x} \n",
    "$$"
   ]
  },
  {
   "cell_type": "code",
   "execution_count": 3,
   "id": "4e6b697c",
   "metadata": {},
   "outputs": [
    {
     "name": "stdout",
     "output_type": "stream",
     "text": [
      "hello world\n"
     ]
    }
   ],
   "source": [
    "print('hello world')"
   ]
  },
  {
   "cell_type": "markdown",
   "id": "2807cdf6",
   "metadata": {},
   "source": [
    "میتونید مثل ماشین حساب مستقیم نتایج محاسبات رو چک کنید به این صورت:"
   ]
  },
  {
   "cell_type": "code",
   "execution_count": 1,
   "id": "2f0c1704",
   "metadata": {},
   "outputs": [
    {
     "data": {
      "text/plain": [
       "13"
      ]
     },
     "execution_count": 1,
     "metadata": {},
     "output_type": "execute_result"
    }
   ],
   "source": [
    "9+4"
   ]
  },
  {
   "cell_type": "code",
   "execution_count": 2,
   "id": "7eff0422",
   "metadata": {},
   "outputs": [
    {
     "data": {
      "text/plain": [
       "5"
      ]
     },
     "execution_count": 2,
     "metadata": {},
     "output_type": "execute_result"
    }
   ],
   "source": [
    "9-4"
   ]
  },
  {
   "cell_type": "code",
   "execution_count": 3,
   "id": "40d34e18",
   "metadata": {},
   "outputs": [
    {
     "data": {
      "text/plain": [
       "36"
      ]
     },
     "execution_count": 3,
     "metadata": {},
     "output_type": "execute_result"
    }
   ],
   "source": [
    "9*4"
   ]
  },
  {
   "cell_type": "code",
   "execution_count": 4,
   "id": "c0823529",
   "metadata": {},
   "outputs": [
    {
     "data": {
      "text/plain": [
       "2.25"
      ]
     },
     "execution_count": 4,
     "metadata": {},
     "output_type": "execute_result"
    }
   ],
   "source": [
    "9/4"
   ]
  },
  {
   "cell_type": "markdown",
   "id": "010fa786",
   "metadata": {},
   "source": [
    "فرق // با / اینه که // خارج قسمت یا جز صحیح حاصل تقسیم رو میده اما / دقیق با اعشار حساب میکنه"
   ]
  },
  {
   "cell_type": "code",
   "execution_count": 5,
   "id": "44353462",
   "metadata": {},
   "outputs": [
    {
     "data": {
      "text/plain": [
       "2"
      ]
     },
     "execution_count": 5,
     "metadata": {},
     "output_type": "execute_result"
    }
   ],
   "source": [
    "9//4"
   ]
  },
  {
   "cell_type": "code",
   "execution_count": 7,
   "id": "f46d8d15",
   "metadata": {},
   "outputs": [
    {
     "data": {
      "text/plain": [
       "1"
      ]
     },
     "execution_count": 7,
     "metadata": {},
     "output_type": "execute_result"
    }
   ],
   "source": [
    "9%4"
   ]
  },
  {
   "cell_type": "markdown",
   "id": "7904d9f9",
   "metadata": {},
   "source": [
    "به توان رسوندن:"
   ]
  },
  {
   "cell_type": "code",
   "execution_count": 8,
   "id": "4246be8b",
   "metadata": {},
   "outputs": [
    {
     "data": {
      "text/plain": [
       "6561"
      ]
     },
     "execution_count": 8,
     "metadata": {},
     "output_type": "execute_result"
    }
   ],
   "source": [
    "9**4"
   ]
  },
  {
   "cell_type": "markdown",
   "id": "762a781a",
   "metadata": {},
   "source": [
    "کارای جالبی که میشه روی رشته ها انجام داد:"
   ]
  },
  {
   "cell_type": "code",
   "execution_count": 12,
   "id": "2b8a2937",
   "metadata": {},
   "outputs": [
    {
     "name": "stdout",
     "output_type": "stream",
     "text": [
      "بالای خط:\n",
      "-----,روی خط\n",
      "زیر خط\n",
      "world\n"
     ]
    }
   ],
   "source": [
    "print('بالای خط:')\n",
    "print('-'*5, end=\",\")\n",
    "print('روی','خط', sep=' ')\n",
    "print('زیر خط')\n",
    "print('worldd'[0:-1])"
   ]
  },
  {
   "cell_type": "markdown",
   "id": "a62b7ab2",
   "metadata": {},
   "source": [
    "تو پایتون لازم نیست نوع متغیرها رو بنویسید.\n",
    "\n",
    "همچنین نوع متغیرها میتونه در طول برنامه کامل تغییر کنه و مشکلی نداره.\n",
    "\n",
    "در مورد interpreterها و نحوه عملکردشون اگه خواستید مطالعه کنید."
   ]
  },
  {
   "cell_type": "code",
   "execution_count": 13,
   "id": "f7c32691",
   "metadata": {},
   "outputs": [],
   "source": [
    "a = 1\n",
    "a = 'Robotics!'\n",
    "a = 1.0"
   ]
  },
  {
   "cell_type": "code",
   "execution_count": 14,
   "id": "f4410451",
   "metadata": {},
   "outputs": [
    {
     "name": "stdout",
     "output_type": "stream",
     "text": [
      "1.0\n"
     ]
    }
   ],
   "source": [
    "print(a)"
   ]
  },
  {
   "cell_type": "code",
   "execution_count": 16,
   "id": "2b2fb72b",
   "metadata": {},
   "outputs": [
    {
     "name": "stdout",
     "output_type": "stream",
     "text": [
      "گرفتن ورودی: 256\n"
     ]
    }
   ],
   "source": [
    "myinput = input(\"گرفتن ورودی: \")"
   ]
  },
  {
   "cell_type": "code",
   "execution_count": 17,
   "id": "ab9da9ae",
   "metadata": {},
   "outputs": [
    {
     "data": {
      "text/plain": [
       "str"
      ]
     },
     "execution_count": 17,
     "metadata": {},
     "output_type": "execute_result"
    }
   ],
   "source": [
    "type(myinput)"
   ]
  },
  {
   "cell_type": "markdown",
   "id": "c4561d7c",
   "metadata": {},
   "source": [
    "یه فرق دیگه پایتون با جاوا:\n",
    "نمیتونید عدد رو به یه رشته اضافه کنید."
   ]
  },
  {
   "cell_type": "code",
   "execution_count": 18,
   "id": "f8f115db",
   "metadata": {},
   "outputs": [
    {
     "ename": "TypeError",
     "evalue": "unsupported operand type(s) for +: 'int' and 'str'",
     "output_type": "error",
     "traceback": [
      "\u001b[1;31m---------------------------------------------------------------------------\u001b[0m",
      "\u001b[1;31mTypeError\u001b[0m                                 Traceback (most recent call last)",
      "Input \u001b[1;32mIn [18]\u001b[0m, in \u001b[0;36m<cell line: 1>\u001b[1;34m()\u001b[0m\n\u001b[1;32m----> 1\u001b[0m \u001b[38;5;241;43m1\u001b[39;49m\u001b[38;5;241;43m+\u001b[39;49m\u001b[38;5;124;43m'\u001b[39;49m\u001b[38;5;124;43m256\u001b[39;49m\u001b[38;5;124;43m'\u001b[39;49m\n",
      "\u001b[1;31mTypeError\u001b[0m: unsupported operand type(s) for +: 'int' and 'str'"
     ]
    }
   ],
   "source": [
    "1+'256'"
   ]
  },
  {
   "cell_type": "code",
   "execution_count": 20,
   "id": "fa35014c",
   "metadata": {},
   "outputs": [
    {
     "data": {
      "text/plain": [
       "'2561'"
      ]
     },
     "execution_count": 20,
     "metadata": {},
     "output_type": "execute_result"
    }
   ],
   "source": [
    "myinput+str(1)"
   ]
  },
  {
   "cell_type": "markdown",
   "id": "56698f30",
   "metadata": {},
   "source": [
    "### بولین یا boolean"
   ]
  },
  {
   "cell_type": "code",
   "execution_count": 22,
   "id": "44d5079c",
   "metadata": {},
   "outputs": [],
   "source": [
    "a = True\n",
    "b = False"
   ]
  },
  {
   "cell_type": "code",
   "execution_count": 23,
   "id": "615bd9f4",
   "metadata": {},
   "outputs": [
    {
     "data": {
      "text/plain": [
       "False"
      ]
     },
     "execution_count": 23,
     "metadata": {},
     "output_type": "execute_result"
    }
   ],
   "source": [
    "a and b"
   ]
  },
  {
   "cell_type": "code",
   "execution_count": 24,
   "id": "9e93ea1d",
   "metadata": {},
   "outputs": [
    {
     "data": {
      "text/plain": [
       "True"
      ]
     },
     "execution_count": 24,
     "metadata": {},
     "output_type": "execute_result"
    }
   ],
   "source": [
    "a or b"
   ]
  },
  {
   "cell_type": "code",
   "execution_count": 25,
   "id": "9cc323e8",
   "metadata": {},
   "outputs": [
    {
     "data": {
      "text/plain": [
       "False"
      ]
     },
     "execution_count": 25,
     "metadata": {},
     "output_type": "execute_result"
    }
   ],
   "source": [
    "a is b"
   ]
  },
  {
   "cell_type": "code",
   "execution_count": 26,
   "id": "4bf98458",
   "metadata": {},
   "outputs": [
    {
     "data": {
      "text/plain": [
       "False"
      ]
     },
     "execution_count": 26,
     "metadata": {},
     "output_type": "execute_result"
    }
   ],
   "source": [
    "a == b"
   ]
  },
  {
   "cell_type": "code",
   "execution_count": 27,
   "id": "c77af19b",
   "metadata": {},
   "outputs": [
    {
     "data": {
      "text/plain": [
       "True"
      ]
     },
     "execution_count": 27,
     "metadata": {},
     "output_type": "execute_result"
    }
   ],
   "source": [
    "a != b"
   ]
  },
  {
   "cell_type": "code",
   "execution_count": 38,
   "id": "f75d367d",
   "metadata": {},
   "outputs": [
    {
     "data": {
      "text/plain": [
       "True"
      ]
     },
     "execution_count": 38,
     "metadata": {},
     "output_type": "execute_result"
    }
   ],
   "source": [
    "not b"
   ]
  },
  {
   "cell_type": "markdown",
   "id": "f6ccf0ec",
   "metadata": {},
   "source": [
    "در مورد علامت == و is:\n",
    "    \n",
    "عملگر == فقط مقدار دو متغیر رو چک میکنه\n",
    "\n",
    "عملگر is نه تنها چک میکنه مقدار دوتا یکی باشه بلکه چک میکنه رفرنس یا شی هر دو عملوند یکی باشه\n",
    "مثال:\n"
   ]
  },
  {
   "cell_type": "code",
   "execution_count": 40,
   "id": "b7fabd52",
   "metadata": {},
   "outputs": [
    {
     "name": "stdout",
     "output_type": "stream",
     "text": [
      "True\n",
      "False\n"
     ]
    }
   ],
   "source": [
    "list1 = [1, 2, 3]\n",
    "list2 = [1, 2, 3]\n",
    "print(list1 == list2)\n",
    "print(list1 is list2)"
   ]
  },
  {
   "cell_type": "markdown",
   "id": "5722020a",
   "metadata": {},
   "source": [
    "بر خلاف جاواسکریپت:"
   ]
  },
  {
   "cell_type": "code",
   "execution_count": 41,
   "id": "48a957db",
   "metadata": {},
   "outputs": [
    {
     "data": {
      "text/plain": [
       "False"
      ]
     },
     "execution_count": 41,
     "metadata": {},
     "output_type": "execute_result"
    }
   ],
   "source": [
    "a = 'True'\n",
    "b = True\n",
    "a == b"
   ]
  },
  {
   "cell_type": "markdown",
   "id": "d1a86dcd",
   "metadata": {},
   "source": [
    "آرایه یا همون لیست"
   ]
  },
  {
   "cell_type": "code",
   "execution_count": 10,
   "id": "9b6ef2a5",
   "metadata": {},
   "outputs": [
    {
     "data": {
      "text/plain": [
       "[[1, 2], [1, 2, 3], [4]]"
      ]
     },
     "execution_count": 10,
     "metadata": {},
     "output_type": "execute_result"
    }
   ],
   "source": [
    "arr = [1,2,3,4,5,6]\n",
    "arr2d = [[1,2],[1,2,3],[4]]\n",
    "arr2d"
   ]
  },
  {
   "cell_type": "code",
   "execution_count": 51,
   "id": "274fb190",
   "metadata": {},
   "outputs": [
    {
     "data": {
      "text/plain": [
       "[1, 2, 3, 4, 5, 6, 'last']"
      ]
     },
     "execution_count": 51,
     "metadata": {},
     "output_type": "execute_result"
    }
   ],
   "source": [
    "arr.append('last')\n",
    "arr"
   ]
  },
  {
   "cell_type": "code",
   "execution_count": 54,
   "id": "0b4ab94e",
   "metadata": {},
   "outputs": [
    {
     "data": {
      "text/plain": [
       "'last'"
      ]
     },
     "execution_count": 54,
     "metadata": {},
     "output_type": "execute_result"
    }
   ],
   "source": [
    "arr[-1]"
   ]
  },
  {
   "cell_type": "code",
   "execution_count": 55,
   "id": "8ca354e6",
   "metadata": {},
   "outputs": [
    {
     "data": {
      "text/plain": [
       "6"
      ]
     },
     "execution_count": 55,
     "metadata": {},
     "output_type": "execute_result"
    }
   ],
   "source": [
    "arr[-2]"
   ]
  },
  {
   "cell_type": "code",
   "execution_count": 56,
   "id": "9d175cbf",
   "metadata": {},
   "outputs": [
    {
     "data": {
      "text/plain": [
       "[2, 3, 4, 5, 6]"
      ]
     },
     "execution_count": 56,
     "metadata": {},
     "output_type": "execute_result"
    }
   ],
   "source": [
    "# slicing\n",
    "arr[1:-1]"
   ]
  },
  {
   "cell_type": "code",
   "execution_count": 57,
   "id": "b1a8c242",
   "metadata": {},
   "outputs": [
    {
     "data": {
      "text/plain": [
       "[2, 3, 4, 5, 6, 1]"
      ]
     },
     "execution_count": 57,
     "metadata": {},
     "output_type": "execute_result"
    }
   ],
   "source": [
    "arr[1:-1]+arr[0:1]"
   ]
  },
  {
   "cell_type": "code",
   "execution_count": 58,
   "id": "1586686c",
   "metadata": {},
   "outputs": [
    {
     "data": {
      "text/plain": [
       "[2, 2, 2, 2, 2]"
      ]
     },
     "execution_count": 58,
     "metadata": {},
     "output_type": "execute_result"
    }
   ],
   "source": [
    "arr[1:2]*5"
   ]
  },
  {
   "cell_type": "markdown",
   "id": "975a1f12",
   "metadata": {},
   "source": [
    "### اجراهای شرطی:"
   ]
  },
  {
   "cell_type": "code",
   "execution_count": 1,
   "id": "0db50fad",
   "metadata": {},
   "outputs": [
    {
     "name": "stdout",
     "output_type": "stream",
     "text": [
      "1\n",
      "should run\n"
     ]
    }
   ],
   "source": [
    "a = True\n",
    "if a:\n",
    "    print(1)\n",
    "if not a:\n",
    "    print('why, it shouldn\\'t print')\n",
    "elif not 1:\n",
    "    print('shouldn\\'t run')\n",
    "else:\n",
    "    print('should run')"
   ]
  },
  {
   "cell_type": "markdown",
   "id": "fb2c906b",
   "metadata": {},
   "source": [
    "### حلقه ها:"
   ]
  },
  {
   "cell_type": "code",
   "execution_count": 2,
   "id": "ff50b8fb",
   "metadata": {},
   "outputs": [
    {
     "name": "stdout",
     "output_type": "stream",
     "text": [
      "1\n",
      "2\n",
      "3\n",
      "4\n",
      "5\n",
      "6\n",
      "7\n",
      "8\n",
      "9\n"
     ]
    }
   ],
   "source": [
    "for i in range(1,10):\n",
    "    print(i)"
   ]
  },
  {
   "cell_type": "code",
   "execution_count": 4,
   "id": "45fdaba0",
   "metadata": {
    "scrolled": true
   },
   "outputs": [
    {
     "name": "stdout",
     "output_type": "stream",
     "text": [
      "1\n",
      "2\n",
      "3\n",
      "4\n",
      "5\n",
      "6\n",
      "7\n",
      "8\n",
      "9\n"
     ]
    }
   ],
   "source": [
    "cnt=1\n",
    "while(cnt < 10):\n",
    "    print(cnt)\n",
    "    cnt += 1"
   ]
  },
  {
   "cell_type": "markdown",
   "id": "f57619a5",
   "metadata": {},
   "source": [
    "کار جالب و خوانایی که با ساختن لیست ها تو پایتون میشه انجام داد:"
   ]
  },
  {
   "cell_type": "code",
   "execution_count": 5,
   "id": "dcc010e1",
   "metadata": {},
   "outputs": [
    {
     "data": {
      "text/plain": [
       "[2, 4, 6, 8]"
      ]
     },
     "execution_count": 5,
     "metadata": {},
     "output_type": "execute_result"
    }
   ],
   "source": [
    "[i for i in range(1,10) if i%2==0]"
   ]
  },
  {
   "cell_type": "code",
   "execution_count": 7,
   "id": "5944a73b",
   "metadata": {},
   "outputs": [
    {
     "data": {
      "text/plain": [
       "[0, 1, 2, 3, 4]"
      ]
     },
     "execution_count": 7,
     "metadata": {},
     "output_type": "execute_result"
    }
   ],
   "source": [
    "list(range(0,5))"
   ]
  },
  {
   "cell_type": "markdown",
   "id": "1843afcc",
   "metadata": {},
   "source": [
    "### توابع"
   ]
  },
  {
   "cell_type": "code",
   "execution_count": 11,
   "id": "ec2f3b5b",
   "metadata": {},
   "outputs": [],
   "source": [
    "def function1(a):\n",
    "    print (a)\n",
    "    a = 2\n",
    "    print(a)\n",
    "    return -1"
   ]
  },
  {
   "cell_type": "code",
   "execution_count": 12,
   "id": "7b5ec617",
   "metadata": {},
   "outputs": [
    {
     "name": "stdout",
     "output_type": "stream",
     "text": [
      "3\n",
      "2\n",
      "3\n"
     ]
    }
   ],
   "source": [
    "b = 3\n",
    "result = function1(b)\n",
    "print(b)"
   ]
  },
  {
   "cell_type": "code",
   "execution_count": 24,
   "id": "749b6dcc",
   "metadata": {},
   "outputs": [],
   "source": [
    "def function2(a, *parameters):\n",
    "    print(a)\n",
    "    print(parameters)\n",
    "    return +1"
   ]
  },
  {
   "cell_type": "markdown",
   "id": "1f8c6f3b",
   "metadata": {},
   "source": [
    "معادل کد بالا تو جاوا:"
   ]
  },
  {
   "cell_type": "markdown",
   "id": "b4bfe0e4",
   "metadata": {
    "direction": "ltr"
   },
   "source": [
    "#### java equivaent:\n",
    "``` java\n",
    "private static int function2(int a, int ... myparams){\n",
    "    System.out.println(a);\n",
    "    System.out.println(myparams);\n",
    "    return 1;\n",
    "}\n",
    "```"
   ]
  },
  {
   "cell_type": "code",
   "execution_count": 25,
   "id": "110f5113",
   "metadata": {},
   "outputs": [
    {
     "name": "stdout",
     "output_type": "stream",
     "text": [
      "1\n",
      "(2, 4, 5, 6)\n",
      "1\n",
      "(2, 3, 4, 5, 6, 7, 7)\n"
     ]
    }
   ],
   "source": [
    "function2(1,2,4,5,6)\n",
    "# میتونید هر چقد میخواید پارامتر بنویسید اینطوری\n",
    "functionSecond(1,2,3,4,5,6,7,7);"
   ]
  },
  {
   "cell_type": "code",
   "execution_count": 26,
   "id": "b35c4b68",
   "metadata": {},
   "outputs": [],
   "source": [
    "def function3(a, *parameters, b):\n",
    "    print(a)\n",
    "    print(b)\n",
    "    print(parameters)"
   ]
  },
  {
   "cell_type": "code",
   "execution_count": 27,
   "id": "bda8929f",
   "metadata": {},
   "outputs": [
    {
     "ename": "TypeError",
     "evalue": "function3() missing 1 required keyword-only argument: 'b'",
     "output_type": "error",
     "traceback": [
      "\u001b[1;31m---------------------------------------------------------------------------\u001b[0m",
      "\u001b[1;31mTypeError\u001b[0m                                 Traceback (most recent call last)",
      "Input \u001b[1;32mIn [27]\u001b[0m, in \u001b[0;36m<cell line: 1>\u001b[1;34m()\u001b[0m\n\u001b[1;32m----> 1\u001b[0m \u001b[43mfunction3\u001b[49m\u001b[43m(\u001b[49m\u001b[38;5;241;43m1\u001b[39;49m\u001b[43m,\u001b[49m\u001b[38;5;241;43m2\u001b[39;49m\u001b[43m,\u001b[49m\u001b[38;5;241;43m4\u001b[39;49m\u001b[43m,\u001b[49m\u001b[38;5;241;43m5\u001b[39;49m\u001b[43m,\u001b[49m\u001b[38;5;241;43m6\u001b[39;49m\u001b[43m,\u001b[49m\u001b[38;5;241;43m7\u001b[39;49m\u001b[43m)\u001b[49m\n",
      "\u001b[1;31mTypeError\u001b[0m: function3() missing 1 required keyword-only argument: 'b'"
     ]
    }
   ],
   "source": [
    "function3(1,2,4,5,6,7)"
   ]
  },
  {
   "cell_type": "code",
   "execution_count": 28,
   "id": "875b4ddd",
   "metadata": {},
   "outputs": [
    {
     "name": "stdout",
     "output_type": "stream",
     "text": [
      "1\n",
      "7\n",
      "(2, 2, 3)\n"
     ]
    }
   ],
   "source": [
    "function3(1,2,2,3,b=7)"
   ]
  },
  {
   "cell_type": "markdown",
   "id": "2981fe02",
   "metadata": {},
   "source": [
    "پارامتر اختیاری:"
   ]
  },
  {
   "cell_type": "code",
   "execution_count": 29,
   "id": "34af0583",
   "metadata": {},
   "outputs": [],
   "source": [
    "def function4(a=1, b=3):\n",
    "    print(a)\n",
    "    print(b)\n",
    "    return a+b"
   ]
  },
  {
   "cell_type": "code",
   "execution_count": 30,
   "id": "4deaa7c7",
   "metadata": {},
   "outputs": [
    {
     "name": "stdout",
     "output_type": "stream",
     "text": [
      "1\n",
      "3\n"
     ]
    },
    {
     "data": {
      "text/plain": [
       "4"
      ]
     },
     "execution_count": 30,
     "metadata": {},
     "output_type": "execute_result"
    }
   ],
   "source": [
    "function4()"
   ]
  },
  {
   "cell_type": "code",
   "execution_count": 31,
   "id": "8b59c973",
   "metadata": {},
   "outputs": [
    {
     "name": "stdout",
     "output_type": "stream",
     "text": [
      "10\n",
      "3\n"
     ]
    },
    {
     "data": {
      "text/plain": [
       "13"
      ]
     },
     "execution_count": 31,
     "metadata": {},
     "output_type": "execute_result"
    }
   ],
   "source": [
    "function4(10)"
   ]
  },
  {
   "cell_type": "code",
   "execution_count": 33,
   "id": "4ac3ec01",
   "metadata": {},
   "outputs": [
    {
     "name": "stdout",
     "output_type": "stream",
     "text": [
      "6\n",
      "2\n"
     ]
    },
    {
     "data": {
      "text/plain": [
       "8"
      ]
     },
     "execution_count": 33,
     "metadata": {},
     "output_type": "execute_result"
    }
   ],
   "source": [
    "function4(b=2, a=6)"
   ]
  },
  {
   "cell_type": "markdown",
   "id": "39803757",
   "metadata": {},
   "source": [
    "## کتابخانه های پایتون:"
   ]
  },
  {
   "cell_type": "markdown",
   "id": "51dece51",
   "metadata": {},
   "source": [
    "### numpy"
   ]
  },
  {
   "cell_type": "code",
   "execution_count": 4,
   "id": "c75c8531",
   "metadata": {},
   "outputs": [],
   "source": [
    "import numpy as np"
   ]
  },
  {
   "cell_type": "code",
   "execution_count": 13,
   "id": "444f1ddb",
   "metadata": {},
   "outputs": [
    {
     "data": {
      "text/plain": [
       "array([1, 2, 3, 4, 5, 6, 7, 8, 9])"
      ]
     },
     "execution_count": 13,
     "metadata": {},
     "output_type": "execute_result"
    }
   ],
   "source": [
    "arr = np.array([i for i in range(1,10)], dtype=np.int32)\n",
    "# arr = np.array(list(range(1,10)), dtype=np.int32)\n",
    "arr"
   ]
  },
  {
   "cell_type": "code",
   "execution_count": 14,
   "id": "5e163e31",
   "metadata": {},
   "outputs": [
    {
     "data": {
      "text/plain": [
       "(9,)"
      ]
     },
     "execution_count": 14,
     "metadata": {},
     "output_type": "execute_result"
    }
   ],
   "source": [
    "arr.shape"
   ]
  },
  {
   "cell_type": "code",
   "execution_count": 15,
   "id": "86ca0f1b",
   "metadata": {},
   "outputs": [
    {
     "data": {
      "text/plain": [
       "array([[1, 2, 3],\n",
       "       [4, 5, 6],\n",
       "       [7, 8, 9]])"
      ]
     },
     "execution_count": 15,
     "metadata": {},
     "output_type": "execute_result"
    }
   ],
   "source": [
    "arr.reshape((3, 3))"
   ]
  },
  {
   "cell_type": "code",
   "execution_count": 16,
   "id": "68e925a2",
   "metadata": {},
   "outputs": [
    {
     "data": {
      "text/plain": [
       "array([1, 2, 3, 4, 5, 6, 7, 8, 9])"
      ]
     },
     "execution_count": 16,
     "metadata": {},
     "output_type": "execute_result"
    }
   ],
   "source": [
    "arr"
   ]
  },
  {
   "cell_type": "code",
   "execution_count": 18,
   "id": "e4a18c6a",
   "metadata": {},
   "outputs": [],
   "source": [
    "arr = arr.reshape((3,3))"
   ]
  },
  {
   "cell_type": "code",
   "execution_count": 30,
   "id": "73d7982a",
   "metadata": {},
   "outputs": [
    {
     "data": {
      "text/plain": [
       "array([[1., 1.],\n",
       "       [1., 1.]])"
      ]
     },
     "execution_count": 30,
     "metadata": {},
     "output_type": "execute_result"
    }
   ],
   "source": [
    "a = np.ones([2,2])\n",
    "b = np.ones([2,2])\n",
    "a"
   ]
  },
  {
   "cell_type": "code",
   "execution_count": 20,
   "id": "6e7a9f48",
   "metadata": {},
   "outputs": [
    {
     "data": {
      "text/plain": [
       "array([[2., 2.],\n",
       "       [2., 2.]])"
      ]
     },
     "execution_count": 20,
     "metadata": {},
     "output_type": "execute_result"
    }
   ],
   "source": [
    "a+b"
   ]
  },
  {
   "cell_type": "code",
   "execution_count": 21,
   "id": "6f43a3f9",
   "metadata": {},
   "outputs": [
    {
     "data": {
      "text/plain": [
       "array([[ True,  True],\n",
       "       [ True,  True]])"
      ]
     },
     "execution_count": 21,
     "metadata": {},
     "output_type": "execute_result"
    }
   ],
   "source": [
    "a==b"
   ]
  },
  {
   "cell_type": "code",
   "execution_count": 22,
   "id": "77974742",
   "metadata": {},
   "outputs": [
    {
     "data": {
      "text/plain": [
       "False"
      ]
     },
     "execution_count": 22,
     "metadata": {},
     "output_type": "execute_result"
    }
   ],
   "source": [
    "a is b"
   ]
  },
  {
   "cell_type": "code",
   "execution_count": 28,
   "id": "76cfc834",
   "metadata": {},
   "outputs": [
    {
     "name": "stdout",
     "output_type": "stream",
     "text": [
      "[3 4 5 6 7 8]\n",
      "[3 4 6 7 8]\n"
     ]
    }
   ],
   "source": [
    "a = np.arange(3,9)\n",
    "c = np.array([True, True, False, True, True, True])\n",
    "print(a)\n",
    "print(a[c])"
   ]
  },
  {
   "cell_type": "code",
   "execution_count": 29,
   "id": "d3033c1a",
   "metadata": {},
   "outputs": [
    {
     "data": {
      "text/plain": [
       "array([1, 1, 0, 1, 1, 1])"
      ]
     },
     "execution_count": 29,
     "metadata": {},
     "output_type": "execute_result"
    }
   ],
   "source": [
    "c*1"
   ]
  },
  {
   "cell_type": "code",
   "execution_count": null,
   "id": "6a0563ba",
   "metadata": {},
   "outputs": [],
   "source": [
    "مطالعه بیشتر\n",
    "* "
   ]
  },
  {
   "cell_type": "code",
   "execution_count": null,
   "id": "5929cd8f",
   "metadata": {},
   "outputs": [],
   "source": []
  },
  {
   "cell_type": "markdown",
   "id": "37435ddd",
   "metadata": {},
   "source": [
    "### pandas"
   ]
  },
  {
   "cell_type": "code",
   "execution_count": 1,
   "id": "6da56554",
   "metadata": {},
   "outputs": [],
   "source": [
    "import pandas as pd"
   ]
  },
  {
   "cell_type": "code",
   "execution_count": 8,
   "id": "fd7cedab",
   "metadata": {},
   "outputs": [
    {
     "data": {
      "text/plain": [
       "10"
      ]
     },
     "execution_count": 8,
     "metadata": {},
     "output_type": "execute_result"
    }
   ],
   "source": []
  },
  {
   "cell_type": "code",
   "execution_count": null,
   "id": "a49de7c8",
   "metadata": {},
   "outputs": [],
   "source": []
  }
 ],
 "metadata": {
  "direction": "rtl",
  "kernelspec": {
   "display_name": "Python 3 (ipykernel)",
   "language": "python",
   "name": "python3"
  },
  "language_info": {
   "codemirror_mode": {
    "name": "ipython",
    "version": 3
   },
   "file_extension": ".py",
   "mimetype": "text/x-python",
   "name": "python",
   "nbconvert_exporter": "python",
   "pygments_lexer": "ipython3",
   "version": "3.9.12"
  }
 },
 "nbformat": 4,
 "nbformat_minor": 5
}
