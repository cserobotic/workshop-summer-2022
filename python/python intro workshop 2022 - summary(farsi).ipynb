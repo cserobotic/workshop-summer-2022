{
 "cells": [
  {
   "cell_type": "markdown",
   "metadata": {},
   "source": [
    "## markdown cell\n",
    ".میتونید اینجا هرچیزی بنویسید و نمایشی هست فقط. برای توضیحات در کل خیلی خوبه چون در کنار خوندن یک چیزی مثل مستند کد هم میتونید اجرا کنید\n",
    "\n",
    "# heading 1\n",
    "## heading 2\n",
    "### heading 3\n",
    "...\n",
    "\n",
    "## latex\n",
    "میتونید لتک بنویسید همینجا با علامت \n",
    "\n",
    "$\n",
    "\n",
    "مثال:\n",
    "\n",
    "$$\n",
    "\\frac{\\sqrt{x^2-1}}{e^x} \n",
    "$$"
   ]
  },
  {
   "cell_type": "code",
   "execution_count": 3,
   "metadata": {},
   "outputs": [
    {
     "name": "stdout",
     "output_type": "stream",
     "text": [
      "hello world\n"
     ]
    }
   ],
   "source": [
    "print('hello world')"
   ]
  },
  {
   "cell_type": "markdown",
   "metadata": {},
   "source": []
  },
  {
   "cell_type": "code",
   "execution_count": null,
   "metadata": {},
   "outputs": [],
   "source": []
  }
 ],
 "metadata": {
  "kernelspec": {
   "display_name": "Python 3",
   "language": "python",
   "name": "python3"
  },
  "language_info": {
   "codemirror_mode": {
    "name": "ipython",
    "version": 3
   },
   "file_extension": ".py",
   "mimetype": "text/x-python",
   "name": "python",
   "nbconvert_exporter": "python",
   "pygments_lexer": "ipython3",
   "version": "3.7.5"
  }
 },
 "nbformat": 4,
 "nbformat_minor": 5
}
